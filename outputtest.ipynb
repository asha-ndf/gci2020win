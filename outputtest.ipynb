{
  "nbformat": 4,
  "nbformat_minor": 0,
  "metadata": {
    "colab": {
      "name": "outputtest.ipynb",
      "provenance": [],
      "authorship_tag": "ABX9TyOapvoLlaUCRD5vxHnvErRH",
      "include_colab_link": true
    },
    "kernelspec": {
      "name": "python3",
      "display_name": "Python 3"
    }
  },
  "cells": [
    {
      "cell_type": "markdown",
      "metadata": {
        "id": "view-in-github",
        "colab_type": "text"
      },
      "source": [
        "<a href=\"https://colab.research.google.com/github/asha-ndf/gci2020win/blob/master/outputtest.ipynb\" target=\"_parent\"><img src=\"https://colab.research.google.com/assets/colab-badge.svg\" alt=\"Open In Colab\"/></a>"
      ]
    },
    {
      "cell_type": "markdown",
      "metadata": {
        "id": "7c3zofEI_MEc"
      },
      "source": [
        "機械学習の設定と結果をファイルに出力するプログラム"
      ]
    },
    {
      "cell_type": "code",
      "metadata": {
        "id": "5oYh10wNwXk5"
      },
      "source": [
        "from google.colab import drive\n",
        "import datetime\n",
        "now = datetime.datetime.now()\n",
        "output1 =str(now) #結果一覧表用\n",
        "output2 ='' #結果詳細用"
      ],
      "execution_count": 42,
      "outputs": []
    },
    {
      "cell_type": "code",
      "metadata": {
        "id": "qStmc_TlxlWy"
      },
      "source": [
        "#結果出力用関数\n",
        "def fprint1(a):\n",
        "  global output1\n",
        "  output1 = output1 +' / ' + str(a)\n",
        "def fprint2(a):\n",
        "  global output2\n",
        "  output2 = output2 + str(a) +'\\n'"
      ],
      "execution_count": 43,
      "outputs": []
    },
    {
      "cell_type": "code",
      "metadata": {
        "id": "dBHab3QL8oqm"
      },
      "source": [
        "fprint1('結果一覧')\n",
        "fprint1('結果')\n",
        "fprint2('結果詳細')\n",
        "fprint2('詳細')"
      ],
      "execution_count": 44,
      "outputs": []
    },
    {
      "cell_type": "code",
      "metadata": {
        "id": "3V15S7o6wlg_",
        "outputId": "ef115702-7ce9-4e16-996e-2f5d3f8e7972",
        "colab": {
          "base_uri": "https://localhost:8080/"
        }
      },
      "source": [
        "#書き込み\n",
        "drive.mount('/content/drive')\n",
        "filename1 = '/content/drive/My Drive/cmp2/g_output.txt'\n",
        "with open(filename1, 'a') as f2:\n",
        "  f2.write(output1 + '\\n')\n",
        "filename2 = '/content/drive/My Drive/cmp2/output/output_' + now.strftime('%m%d_%H%M%S') + '.txt'\n",
        "with open(filename2, 'w') as f2:\n",
        "  f2.write(output2)\n",
        "drive.flush_and_unmount()"
      ],
      "execution_count": 45,
      "outputs": [
        {
          "output_type": "stream",
          "text": [
            "Mounted at /content/drive\n"
          ],
          "name": "stdout"
        }
      ]
    },
    {
      "cell_type": "code",
      "metadata": {
        "id": "0mS8wf50wojx"
      },
      "source": [
        ""
      ],
      "execution_count": 45,
      "outputs": []
    }
  ]
}