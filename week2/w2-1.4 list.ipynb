{
 "cells": [
  {
   "cell_type": "code",
   "execution_count": 1,
   "metadata": {},
   "outputs": [
    {
     "name": "stdout",
     "output_type": "stream",
     "text": [
      "[1, 2, 3, 4, 5, 6, 7, 8, 9, 10]\n"
     ]
    }
   ],
   "source": [
    "data_list = [1, 2, 3, 4, 5, 6, 7, 8, 9, 10]\n",
    "print(data_list)"
   ]
  },
  {
   "cell_type": "code",
   "execution_count": 2,
   "metadata": {},
   "outputs": [
    {
     "name": "stdout",
     "output_type": "stream",
     "text": [
      "[1, 2, 3, 4, 5, 6, 7, 8, 9, 10]\n",
      "変数のタイプ: <class 'list'>\n",
      "2番目の数： 2\n",
      "要素数： 10\n"
     ]
    }
   ],
   "source": [
    "# リストを作る\n",
    "data_list = [1, 2, 3, 4, 5, 6, 7, 8, 9, 10]\n",
    "print(data_list)\n",
    "\n",
    "# typeで変数のタイプがわかる\n",
    "print('変数のタイプ:', type(data_list))\n",
    "\n",
    "# 1つの要素を取り出す。0から始まるので、[1]は2番目になる\n",
    "print('2番目の数：', data_list[1])\n",
    "\n",
    "# len関数で要素の数を出力。ここでは1から10までの10個なので、結果は10。\n",
    "print('要素数：', len(data_list))"
   ]
  },
  {
   "cell_type": "code",
   "execution_count": null,
   "metadata": {},
   "outputs": [],
   "source": []
  }
 ],
 "metadata": {
  "kernelspec": {
   "display_name": "Python 3",
   "language": "python",
   "name": "python3"
  },
  "language_info": {
   "codemirror_mode": {
    "name": "ipython",
    "version": 3
   },
   "file_extension": ".py",
   "mimetype": "text/x-python",
   "name": "python",
   "nbconvert_exporter": "python",
   "pygments_lexer": "ipython3",
   "version": "3.8.3"
  }
 },
 "nbformat": 4,
 "nbformat_minor": 4
}
